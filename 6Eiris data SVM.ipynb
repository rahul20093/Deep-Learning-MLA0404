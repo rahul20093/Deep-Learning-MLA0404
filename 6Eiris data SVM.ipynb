{
  "nbformat": 4,
  "nbformat_minor": 0,
  "metadata": {
    "colab": {
      "provenance": []
    },
    "kernelspec": {
      "name": "python3",
      "display_name": "Python 3"
    },
    "language_info": {
      "name": "python"
    }
  },
  "cells": [
    {
      "cell_type": "code",
      "source": [
        "import numpy as np\n",
        "import pandas as pd\n",
        "\n",
        "dataset = pd.read_csv(\"data.csv\")\n",
        "dataset['diagnosis'].unique()\n",
        "dataset['diagnosis'] = dataset['diagnosis'].replace({'B': 0, 'M': 1})\n",
        "X = dataset.iloc[:, :-1].values\n",
        "y = dataset[\"diagnosis\"].values\n",
        "\n",
        "from sklearn.model_selection import train_test_split\n",
        "X_train, X_test, y_train, y_test = train_test_split(X, y, test_size = 0.30, random_state = 2)\n",
        "\n",
        "from sklearn.svm import SVC\n",
        "classifier = SVC(random_state = 0)\n",
        "classifier.fit(X_train, y_train)\n",
        "\n",
        "from sklearn.metrics import confusion_matrix, accuracy_score\n",
        "y_pred = classifier.predict(X_test)\n",
        "cm = confusion_matrix(y_test, y_pred)\n",
        "print(cm)\n",
        "accuracy=accuracy_score(y_test, y_pred)\n",
        "print(accuracy)"
      ],
      "metadata": {
        "colab": {
          "base_uri": "https://localhost:8080/"
        },
        "id": "tiAPvH61mLk7",
        "outputId": "f5f146d9-9bc6-40c0-fe0d-09411b4c97d3"
      },
      "execution_count": 7,
      "outputs": [
        {
          "output_type": "stream",
          "name": "stdout",
          "text": [
            "[[104   0]\n",
            " [ 67   0]]\n",
            "0.6081871345029239\n"
          ]
        }
      ]
    }
  ]
}
